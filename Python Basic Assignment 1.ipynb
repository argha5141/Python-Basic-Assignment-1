{
 "cells": [
  {
   "cell_type": "markdown",
   "id": "048a257d",
   "metadata": {},
   "source": [
    "1. In the below elements which of them are values or an expression? eg:- values can be\n",
    "integer or string and expressions will be mathematical operators.\n",
    "* = expressions\n",
    "'hello = values\n",
    "-87.8 = values\n",
    "- = expressions\n",
    "/ = expressions\n",
    "+ = expressions\n",
    "6 = values"
   ]
  },
  {
   "cell_type": "markdown",
   "id": "9a4a87ca",
   "metadata": {},
   "source": [
    "2. What is the difference between string and variable?\n",
    "Variables are also known as an identifier where it store a value in a particular memory location and to manipulate if it needed.\n",
    "for example;\n",
    "a= 10\n",
    "b= 20\n",
    "whereas Strings are where we assign to a variable using quotes. Thus a string is one of several type of a variable.\n",
    "for example;\n",
    "a= '10'\n",
    "b= \"Argha\""
   ]
  },
  {
   "cell_type": "markdown",
   "id": "1b7c65d0",
   "metadata": {},
   "source": [
    "3. Describe three different data types.\n",
    "Three differnt data types are as follows\n",
    "a) integers\n",
    "b) float\n",
    "c) Strings\n"
   ]
  },
  {
   "cell_type": "markdown",
   "id": "ef1d2f34",
   "metadata": {},
   "source": [
    "4. What is an expression made up of? What do all expressions do?\n",
    "Expression is a combination of values, variables, operators and calls to functions.\n",
    "Expressions need to be evaluated and when we ask Python to print an expression, the interpreter evaluates the expression and displays the result."
   ]
  },
  {
   "cell_type": "markdown",
   "id": "732704b5",
   "metadata": {},
   "source": [
    "5. This assignment statements, like spam = 10. What is the difference between an\n",
    "expression and a statement?\n",
    "Expression can be defined as any element in our program that evaluates to some value. An expression evaluates to a value. \n",
    "whereas, Statement represent an action or command. For example print statements."
   ]
  },
  {
   "cell_type": "markdown",
   "id": "5fd898a9",
   "metadata": {},
   "source": [
    "6. After running the following code, what does the variable bacon contain?\n",
    "bacon = 22\n",
    "bacon + 1\n",
    "The output will be 23"
   ]
  },
  {
   "cell_type": "markdown",
   "id": "85573869",
   "metadata": {},
   "source": [
    "7. What should the values of the following two terms be?\n",
    "'spam'; + 'spamspam';\n",
    "'spam'; * 3\n",
    "In the both cases the output wil be same 'spamspamspam'"
   ]
  },
  {
   "cell_type": "markdown",
   "id": "cc36ff64",
   "metadata": {},
   "source": [
    "8. Why is eggs a valid variable name while 100 is invalid?\n",
    "Because variable name cannot be a number as 100 is an integer thats why showing invalid."
   ]
  },
  {
   "cell_type": "markdown",
   "id": "63cfee41",
   "metadata": {},
   "source": [
    "9. What three functions can be used to get the integer, floating-point number, or string\n",
    "version of a value?\n",
    "int() for integer\n",
    "float() for floating-point number\n",
    "Str() for string "
   ]
  },
  {
   "cell_type": "markdown",
   "id": "99b94b77",
   "metadata": {},
   "source": [
    "10. Why does this expression cause an error? How can you fix it?\n",
    "'I have eaten' + 99 + 'burritos'\n",
    "This expression cause an error because we are trying to concatinate the expression and only string variable can concatinate\n",
    "integer cannot and 99 is an integer. Now we can fix the error by writing this code\n",
    "'I have eaten' + '99' + 'burritos'\n",
    "The output will be 'I have eaten99burritos'\n",
    "We can also write this program in such a way to give spaces between the different words\n",
    "'I have eaten' + ' 99' + ' burritos'\n",
    "Now the output will be 'I have eaten 99 burritos'\n"
   ]
  },
  {
   "cell_type": "code",
   "execution_count": null,
   "id": "0a9f929c",
   "metadata": {},
   "outputs": [],
   "source": []
  }
 ],
 "metadata": {
  "kernelspec": {
   "display_name": "Python 3 (ipykernel)",
   "language": "python",
   "name": "python3"
  },
  "language_info": {
   "codemirror_mode": {
    "name": "ipython",
    "version": 3
   },
   "file_extension": ".py",
   "mimetype": "text/x-python",
   "name": "python",
   "nbconvert_exporter": "python",
   "pygments_lexer": "ipython3",
   "version": "3.9.7"
  }
 },
 "nbformat": 4,
 "nbformat_minor": 5
}
